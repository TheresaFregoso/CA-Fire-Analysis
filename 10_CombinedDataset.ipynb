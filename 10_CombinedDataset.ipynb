{
 "cells": [
  {
   "cell_type": "code",
   "execution_count": 4,
   "metadata": {},
   "outputs": [
    {
     "data": {
      "text/plain": [
       "(   Year     County   Acres  Strux_Destr  Strux_Dmgd  Deaths_FF  Deaths_Civil  \\\n",
       " 0  2015    Alameda    2850            1           0          0             0   \n",
       " 1  2015     Amador   70868          965           0          0             2   \n",
       " 2  2015      Butte    2300           16           0          0             0   \n",
       " 3  2015  Del Norte   37870            0           0          0             0   \n",
       " 4  2015     Fresno  151623            4           0          0             0   \n",
       " \n",
       "                Duration  Unique_Fire_Days  Total_Fires  \n",
       " 0                7 days                 7            1  \n",
       " 1               45 days                45            1  \n",
       " 2  19 days11 days2 days                32            3  \n",
       " 3        77 days61 days                77            2  \n",
       " 4              124 days               124            1  ,\n",
       "         County  Tot_Damage  Year\n",
       " 0        Butte  24410210.0  2008\n",
       " 1    Mendocino    621450.0  2008\n",
       " 2    Mendocino    621450.0  2008\n",
       " 3  Santa Clara    202701.0  2008\n",
       " 4     Siskiyou     16200.0  2008)"
      ]
     },
     "execution_count": 4,
     "metadata": {},
     "output_type": "execute_result"
    }
   ],
   "source": [
    "import pandas as pd\n",
    "\n",
    "# Load the CSV files\n",
    "summary_totals_df = pd.read_csv('Outputs/summary_totals_by_county.csv')\n",
    "extracted_df = pd.read_csv('Outputs/extracted_data.csv')\n",
    "\n",
    "# Display the first few rows of each DataFrame\n",
    "summary_totals_head = summary_totals_df.head()\n",
    "extracted_df_head = extracted_df.head()\n",
    "\n",
    "summary_totals_head, extracted_df_head\n"
   ]
  },
  {
   "cell_type": "code",
   "execution_count": 6,
   "metadata": {},
   "outputs": [
    {
     "name": "stdout",
     "output_type": "stream",
     "text": [
      "Common counties: {'Calaveras', 'Tehama', 'San Joaquin', 'Sonoma', 'Yuba', 'Del Norte', 'Sutter', 'Mono', 'Modoc', 'Yolo', 'Santa Cruz', 'San Luis Obispo', 'Tuolumne', 'Butte', 'Napa', 'Lassen', 'Riverside', 'Alpine', 'Mariposa', 'Kings', 'Alameda', 'Sacramento', 'Madera', 'Solano', 'Placer', 'Nevada', 'Humboldt', 'Monterey', 'Shasta', 'San Bernardino', 'Inyo', 'Contra Costa', 'Fresno', 'Amador', 'Lake', 'Glenn', 'Colusa', 'Plumas', 'Tulare', 'Mendocino', 'Santa Clara', 'Merced', 'San Diego', 'Stanislaus', 'Trinity', 'Siskiyou', 'El Dorado', 'San Benito'}\n",
      "Counties unique to summary_totals_by_county.csv: {'Washoe (NV)', 'Marin', 'Orange', 'Kern', 'Jackson (OR)', 'Los Angeles', 'Ventura', 'Santa Barbara'}\n",
      "Counties unique to extracted_data.csv: {'San Francisco', 'Sierra', 'San Mateo', 'Imperial'}\n"
     ]
    }
   ],
   "source": [
    "#Check for discrepancies\n",
    "# Extract unique county names from both dataframes\n",
    "counties_summary_totals = summary_totals_df['County'].unique()\n",
    "counties_extracted = extracted_df['County'].unique()\n",
    "\n",
    "# Find common and differing counties\n",
    "common_counties = set(counties_summary_totals).intersection(set(counties_extracted))\n",
    "unique_to_summary_totals = set(counties_summary_totals) - set(counties_extracted)\n",
    "unique_to_extracted = set(counties_extracted) - set(counties_summary_totals)\n",
    "\n",
    "print(\"Common counties:\", common_counties)\n",
    "print(\"Counties unique to summary_totals_by_county.csv:\", unique_to_summary_totals)\n",
    "print(\"Counties unique to extracted_data.csv:\", unique_to_extracted)\n",
    "\n"
   ]
  },
  {
   "cell_type": "code",
   "execution_count": 8,
   "metadata": {},
   "outputs": [
    {
     "data": {
      "text/plain": [
       "(   Year     County  Acres  Strux_Destr  Strux_Dmgd  Deaths_FF  Deaths_Civil  \\\n",
       " 0  2008      Butte    NaN          NaN         NaN        NaN           NaN   \n",
       " 1  2008  Mendocino    NaN          NaN         NaN        NaN           NaN   \n",
       " 2  2008  Mendocino    NaN          NaN         NaN        NaN           NaN   \n",
       " 3  2008  Riverside    NaN          NaN         NaN        NaN           NaN   \n",
       " 4  2008  Riverside    NaN          NaN         NaN        NaN           NaN   \n",
       " \n",
       "   Duration  Unique_Fire_Days  Total_Fires  Tot_Damage  \n",
       " 0      NaN               NaN          NaN  24410210.0  \n",
       " 1      NaN               NaN          NaN    621450.0  \n",
       " 2      NaN               NaN          NaN    621450.0  \n",
       " 3      NaN               NaN          NaN  97695477.0  \n",
       " 4      NaN               NaN          NaN  97695477.0  ,\n",
       " 'Outputs/merged_summary_dollar_data.csv')"
      ]
     },
     "execution_count": 8,
     "metadata": {},
     "output_type": "execute_result"
    }
   ],
   "source": [
    "# Perform a full outer join on Year and County\n",
    "merged_df = pd.merge(summary_totals_df, extracted_df, on=['Year', 'County'], how='outer')\n",
    "\n",
    "# Display the first few rows of the resulting merged dataframe\n",
    "merged_df_head = merged_df.head()\n",
    "\n",
    "# Save the merged dataframe to a new CSV file\n",
    "merged_file_path = 'Outputs/merged_summary_dollar_data.csv'\n",
    "merged_df.to_csv(merged_file_path, index=False)\n",
    "\n",
    "merged_df_head, merged_file_path\n"
   ]
  }
 ],
 "metadata": {
  "kernelspec": {
   "display_name": "boot_camp2",
   "language": "python",
   "name": "python3"
  },
  "language_info": {
   "codemirror_mode": {
    "name": "ipython",
    "version": 3
   },
   "file_extension": ".py",
   "mimetype": "text/x-python",
   "name": "python",
   "nbconvert_exporter": "python",
   "pygments_lexer": "ipython3",
   "version": "3.12.5"
  }
 },
 "nbformat": 4,
 "nbformat_minor": 2
}
