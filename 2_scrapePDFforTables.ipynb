{
 "cells": [
  {
   "cell_type": "markdown",
   "metadata": {},
   "source": [
    "## Extract data tables from PDFs"
   ]
  },
  {
   "cell_type": "code",
   "execution_count": 8,
   "metadata": {},
   "outputs": [],
   "source": [
    "import pdfplumber\n",
    "import pandas as pd\n",
    "import os\n",
    "import re"
   ]
  },
  {
   "cell_type": "code",
   "execution_count": 9,
   "metadata": {},
   "outputs": [],
   "source": [
    "# Path to the PDF\n",
    "folder_path = \"Resources/CAL_FireStats\"\n"
   ]
  },
  {
   "cell_type": "code",
   "execution_count": 10,
   "metadata": {},
   "outputs": [],
   "source": [
    "# Function to extract and format the table number from the caption\n",
    "def extract_table_number(caption, default_name):\n",
    "    match = re.search(r'(Table\\s+\\d+)', caption, re.IGNORECASE)\n",
    "    if match:\n",
    "        return match.group(1).replace(\" \", \"_\")\n",
    "    else:\n",
    "        return default_name\n"
   ]
  },
  {
   "cell_type": "code",
   "execution_count": 11,
   "metadata": {},
   "outputs": [
    {
     "name": "stdout",
     "output_type": "stream",
     "text": [
      "Processed 2015-wildfire-activity-stats.pdf, saved as 2015-wildfire-activity-stats.xlsx\n",
      "Processed 2010-wildfire-activity-stats.pdf, saved as 2010-wildfire-activity-stats.xlsx\n",
      "Processed 2022-redbook---wildfire-activity-statistics.pdf, saved as 2022-redbook---wildfire-activity-statistics.xlsx\n",
      "Processed 2020-wildfire-activity-stats.pdf, saved as 2020-wildfire-activity-stats.xlsx\n",
      "Processed 2009-wildfire-activity-stats.pdf, saved as 2009-wildfire-activity-stats.xlsx\n",
      "Processed 2011-wildfire-activity-stats.pdf, saved as 2011-wildfire-activity-stats.xlsx\n",
      "Processed 2014-wildfire-activity-stats.pdf, saved as 2014-wildfire-activity-stats.xlsx\n",
      "Processed ca-wildfires-and-acres-for-all-jurisdictions.pdf, saved as ca-wildfires-and-acres-for-all-jurisdictions.xlsx\n",
      "Processed 2021-wildfire-activity-stats.pdf, saved as 2021-wildfire-activity-stats.xlsx\n",
      "Processed 2008-wildfire-activity-stats.pdf, saved as 2008-wildfire-activity-stats.xlsx\n",
      "Processed 2018-wildfire-activity-stats.pdf, saved as 2018-wildfire-activity-stats.xlsx\n",
      "Processed 2017-wildfire-activity-stats.pdf, saved as 2017-wildfire-activity-stats.xlsx\n",
      "Processed 2012-wildfire-activity-stats.pdf, saved as 2012-wildfire-activity-stats.xlsx\n",
      "Processed 2019-wildfire-activity-stats.pdf, saved as 2019-wildfire-activity-stats.xlsx\n",
      "Processed 2013-wildfire-activity-stats.pdf, saved as 2013-wildfire-activity-stats.xlsx\n",
      "Processed 2016-wildfire-activity-stats.pdf, saved as 2016-wildfire-activity-stats.xlsx\n"
     ]
    }
   ],
   "source": [
    "# Loop through all PDFs in the folder\n",
    "for filename in os.listdir(folder_path):\n",
    "    if filename.endswith(\".pdf\"):\n",
    "        pdf_path = os.path.join(folder_path, filename)\n",
    "        \n",
    "        # Initialize a dictionary to hold DataFrames and their corresponding captions\n",
    "        tables_dict = {}\n",
    "\n",
    "        # Open the PDF\n",
    "        with pdfplumber.open(pdf_path) as pdf:\n",
    "            # Iterate through all the pages in the PDF\n",
    "            for i in range(len(pdf.pages)):\n",
    "                page = pdf.pages[i]\n",
    "                \n",
    "                # Extract text from the top of the page to identify the table caption\n",
    "                text = page.extract_text()\n",
    "                default_name = f\"table_page_{i+1}\"\n",
    "                caption = text.split('\\n')[0] if text else default_name\n",
    "                table_name = extract_table_number(caption, default_name)\n",
    "                \n",
    "                # Extract table from the page\n",
    "                table = page.extract_table()\n",
    "                \n",
    "                # If a table is found, convert it to a DataFrame and add to the dictionary\n",
    "                if table:\n",
    "                    df = pd.DataFrame(table[1:], columns=table[0])  # Use the first row as the header\n",
    "                    \n",
    "                    # Drop columns where all values are None\n",
    "                    df.dropna(axis=1, how='all', inplace=True)\n",
    "                    \n",
    "                    # Ensure unique sheet names by appending the page number if necessary\n",
    "                    if table_name in tables_dict:\n",
    "                        table_name = f\"{table_name}_{i+1}\"\n",
    "                    \n",
    "                    tables_dict[table_name] = df\n",
    "                    \n",
    "        # Create an Excel writer object\n",
    "        excel_filename = os.path.splitext(filename)[0] + \".xlsx\"\n",
    "        excel_path = os.path.join(folder_path, excel_filename)\n",
    "        with pd.ExcelWriter(excel_path) as writer:\n",
    "            for table_name, df in tables_dict.items():\n",
    "                df.to_excel(writer, sheet_name=table_name, index=False)\n",
    "\n",
    "        print(f\"Processed {filename}, saved as {excel_filename}\")"
   ]
  }
 ],
 "metadata": {
  "kernelspec": {
   "display_name": "class_env",
   "language": "python",
   "name": "python3"
  },
  "language_info": {
   "codemirror_mode": {
    "name": "ipython",
    "version": 3
   },
   "file_extension": ".py",
   "mimetype": "text/x-python",
   "name": "python",
   "nbconvert_exporter": "python",
   "pygments_lexer": "ipython3",
   "version": "3.12.3"
  }
 },
 "nbformat": 4,
 "nbformat_minor": 2
}
